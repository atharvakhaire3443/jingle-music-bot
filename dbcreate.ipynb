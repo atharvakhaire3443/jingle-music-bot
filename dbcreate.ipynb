{
 "cells": [
  {
   "cell_type": "code",
   "execution_count": 11,
   "metadata": {},
   "outputs": [],
   "source": [
    "import sqlite3"
   ]
  },
  {
   "cell_type": "code",
   "execution_count": 12,
   "metadata": {},
   "outputs": [],
   "source": [
    "conn = sqlite3.connect('jingle.db')\n",
    "cursor = conn.cursor()"
   ]
  },
  {
   "cell_type": "code",
   "execution_count": 3,
   "metadata": {},
   "outputs": [],
   "source": [
    "cursor.execute(f\"create table servers(name varchar(100) PRIMARY KEY,channel_id BIGINT)\")\n",
    "\n",
    "cursor.execute(f'create table global_queue(instance_id varchar(100) primary key,song_name varchar(200),server_name varchar(100),queue_position INTEGER)')\n",
    "\n",
    "cursor.execute('create table global_playlist(instance_id varchar(100) primary key, song_name varchar(200), server_name varchar(100))')\n",
    "\n",
    "conn.commit()\n",
    "cursor.close()"
   ]
  },
  {
   "cell_type": "code",
   "execution_count": 13,
   "metadata": {},
   "outputs": [
    {
     "data": {
      "text/plain": [
       "[(\"Ayushman's Sea Men\", 1144423666759782400),\n",
       " ('Cutie Party', 1144398988645236888),\n",
       " ('Kutty&Koala', 1143890085595582505)]"
      ]
     },
     "execution_count": 13,
     "metadata": {},
     "output_type": "execute_result"
    }
   ],
   "source": [
    "cursor.execute('select * from servers')\n",
    "cursor.fetchall()"
   ]
  },
  {
   "cell_type": "code",
   "execution_count": 42,
   "metadata": {},
   "outputs": [],
   "source": [
    "cursor.execute('delete from global_queue')\n",
    "cursor.execute('delete from global_playlist')\n",
    "conn.commit()"
   ]
  },
  {
   "cell_type": "code",
   "execution_count": 38,
   "metadata": {},
   "outputs": [
    {
     "data": {
      "text/plain": [
       "[('c78de0e3-9118-4287-9a96-c50ca5a19498',\n",
       "  'The Weeknd & Ariana Grande - Save Your Tears (Remix) (Official Video) [LIIDh-qI9oI].webm',\n",
       "  'Cutie Party'),\n",
       " ('2fd08e70-3cbb-48bb-900d-3b15bdb65775',\n",
       "  'Gaand Mein Danda [hXeKLYN8kHg].webm',\n",
       "  \"Ayushman's Sea Men\"),\n",
       " ('eb4199b8-d60f-4dc1-b973-33d547e80344',\n",
       "  'Laude Lag Gaye (BCS Ragasur Official Music Video) - Full Version [Uz-sPvopjvY].webm',\n",
       "  \"Ayushman's Sea Men\")]"
      ]
     },
     "execution_count": 38,
     "metadata": {},
     "output_type": "execute_result"
    }
   ],
   "source": [
    "cursor.execute('select * from global_playlist')\n",
    "cursor.fetchall()"
   ]
  },
  {
   "cell_type": "code",
   "execution_count": 37,
   "metadata": {},
   "outputs": [
    {
     "data": {
      "text/plain": [
       "[]"
      ]
     },
     "execution_count": 37,
     "metadata": {},
     "output_type": "execute_result"
    }
   ],
   "source": [
    "cursor.execute('select * from global_queue')\n",
    "cursor.fetchall()"
   ]
  },
  {
   "cell_type": "code",
   "execution_count": 10,
   "metadata": {},
   "outputs": [],
   "source": [
    "conn.close()"
   ]
  },
  {
   "cell_type": "code",
   "execution_count": null,
   "metadata": {},
   "outputs": [],
   "source": [
    "conn.com"
   ]
  }
 ],
 "metadata": {
  "kernelspec": {
   "display_name": "Python 3.9.12 ('base')",
   "language": "python",
   "name": "python3"
  },
  "language_info": {
   "codemirror_mode": {
    "name": "ipython",
    "version": 3
   },
   "file_extension": ".py",
   "mimetype": "text/x-python",
   "name": "python",
   "nbconvert_exporter": "python",
   "pygments_lexer": "ipython3",
   "version": "3.9.12"
  },
  "orig_nbformat": 4,
  "vscode": {
   "interpreter": {
    "hash": "40d3a090f54c6569ab1632332b64b2c03c39dcf918b08424e98f38b5ae0af88f"
   }
  }
 },
 "nbformat": 4,
 "nbformat_minor": 2
}
